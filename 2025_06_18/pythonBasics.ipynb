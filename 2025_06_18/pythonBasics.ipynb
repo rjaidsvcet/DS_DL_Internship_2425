{
 "cells": [
  {
   "cell_type": "markdown",
   "id": "1f7a341f-71ab-4694-919f-273f2fca01b2",
   "metadata": {},
   "source": [
    "### Basic Operations"
   ]
  },
  {
   "cell_type": "code",
   "execution_count": 1,
   "id": "28475e6d-1543-45a2-8a82-f86fc75bc79f",
   "metadata": {},
   "outputs": [
    {
     "name": "stdout",
     "output_type": "stream",
     "text": [
      "8\n"
     ]
    }
   ],
   "source": [
    "addition = 3 + 5\n",
    "print (addition)"
   ]
  },
  {
   "cell_type": "markdown",
   "id": "cf1d80c9-6330-4c05-94ae-b33f6d43e4a4",
   "metadata": {},
   "source": [
    "### Data Structures"
   ]
  },
  {
   "cell_type": "code",
   "execution_count": 2,
   "id": "16694b31-316c-414a-8eab-7401435f7ba5",
   "metadata": {},
   "outputs": [],
   "source": [
    "randomList = [1, 2, 3, 4, 5, 6]"
   ]
  },
  {
   "cell_type": "markdown",
   "id": "9dad48a6-887d-42cb-9bf1-f4f52bc46d8f",
   "metadata": {},
   "source": [
    "#### Multiply all the odd numbers in the given list"
   ]
  },
  {
   "cell_type": "code",
   "execution_count": 3,
   "id": "d5ae6c20-db58-4c44-8281-26f75d3b55dd",
   "metadata": {},
   "outputs": [
    {
     "name": "stdout",
     "output_type": "stream",
     "text": [
      "The final answer is : 15\n"
     ]
    }
   ],
   "source": [
    "result = 1\n",
    "\n",
    "for _ in randomList:\n",
    "    if _ % 2 != 0:\n",
    "        result *= _\n",
    "\n",
    "print (f'The final answer is : {result}')"
   ]
  },
  {
   "cell_type": "markdown",
   "id": "fc394f2e-995a-47aa-8b90-c33681a78a05",
   "metadata": {},
   "source": [
    "### Adding a new number to the list"
   ]
  },
  {
   "cell_type": "code",
   "execution_count": 4,
   "id": "4e1ec35a-396e-41b5-9fad-8bf2b964c2b9",
   "metadata": {},
   "outputs": [
    {
     "data": {
      "text/plain": [
       "[1, 2, 3, 4, 5, 6]"
      ]
     },
     "execution_count": 4,
     "metadata": {},
     "output_type": "execute_result"
    }
   ],
   "source": [
    "randomList"
   ]
  },
  {
   "cell_type": "code",
   "execution_count": 5,
   "id": "6338b279-263d-4554-99c6-842194b42018",
   "metadata": {},
   "outputs": [],
   "source": [
    "randomList.append (7)"
   ]
  },
  {
   "cell_type": "code",
   "execution_count": 6,
   "id": "9cfbb355-e219-4c30-9fec-2855b4845477",
   "metadata": {},
   "outputs": [
    {
     "data": {
      "text/plain": [
       "[1, 2, 3, 4, 5, 6, 7]"
      ]
     },
     "execution_count": 6,
     "metadata": {},
     "output_type": "execute_result"
    }
   ],
   "source": [
    "randomList"
   ]
  },
  {
   "cell_type": "code",
   "execution_count": null,
   "id": "1c84e1ec-e4d9-4123-b456-605de0e15ee5",
   "metadata": {},
   "outputs": [],
   "source": []
  }
 ],
 "metadata": {
  "kernelspec": {
   "display_name": "Python 3 (ipykernel)",
   "language": "python",
   "name": "python3"
  },
  "language_info": {
   "codemirror_mode": {
    "name": "ipython",
    "version": 3
   },
   "file_extension": ".py",
   "mimetype": "text/x-python",
   "name": "python",
   "nbconvert_exporter": "python",
   "pygments_lexer": "ipython3",
   "version": "3.11.5"
  }
 },
 "nbformat": 4,
 "nbformat_minor": 5
}
