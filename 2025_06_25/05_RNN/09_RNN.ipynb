{
 "cells": [
  {
   "cell_type": "markdown",
   "id": "formed-phase",
   "metadata": {},
   "source": [
    "Article for reference : https://towardsdatascience.com/recurrent-neural-networks-rnns-3f06d7653a85 \\\n",
    "Book for reference : https://www.deeplearningbook.org/contents/rnn.html"
   ]
  },
  {
   "cell_type": "markdown",
   "id": "covered-model",
   "metadata": {},
   "source": [
    "![](https://miro.medium.com/max/593/1*JOkrQoJ3J3-451GzRcayRg.png)\n",
    "<a href=\"https://towardsdatascience.com/recurrent-neural-networks-rnns-3f06d7653a85\">Source</a>"
   ]
  },
  {
   "cell_type": "markdown",
   "id": "obvious-wheel",
   "metadata": {},
   "source": [
    "### *Forward Propagation* ###"
   ]
  },
  {
   "cell_type": "markdown",
   "id": "naked-thanks",
   "metadata": {},
   "source": [
    "![](https://miro.medium.com/max/279/1*55c3opV_tqm3wUwcj0m-jg.png)\n",
    "<a href=\"https://miro.medium.com/max/279/1*55c3opV_tqm3wUwcj0m-jg.png\">Source</a>"
   ]
  },
  {
   "cell_type": "markdown",
   "id": "universal-testament",
   "metadata": {},
   "source": [
    "### *Backward Propgation* ###"
   ]
  },
  {
   "cell_type": "markdown",
   "id": "lovely-nursery",
   "metadata": {},
   "source": [
    "Computation of Gradients"
   ]
  },
  {
   "cell_type": "markdown",
   "id": "egyptian-atmosphere",
   "metadata": {},
   "source": [
    "![](https://miro.medium.com/max/176/1*S7N55YQK2xgH-jGWT0qL-w.png)\n",
    "<a href=\"https://miro.medium.com/max/176/1*S7N55YQK2xgH-jGWT0qL-w.png\">Source</a>"
   ]
  },
  {
   "cell_type": "markdown",
   "id": "combined-documentation",
   "metadata": {},
   "source": [
    "Gradients for Outputs"
   ]
  },
  {
   "cell_type": "markdown",
   "id": "pregnant-fifth",
   "metadata": {},
   "source": [
    "Article for reference : https://eli.thegreenplace.net/2016/the-softmax-function-and-its-derivative/"
   ]
  },
  {
   "cell_type": "markdown",
   "id": "requested-progress",
   "metadata": {},
   "source": [
    "![](https://miro.medium.com/max/611/1*geEKJSbo6iOciOREkwuTuA.png)\n",
    "<a href=\"https://miro.medium.com/max/611/1*geEKJSbo6iOciOREkwuTuA.png\">Source</a>"
   ]
  },
  {
   "cell_type": "code",
   "execution_count": 1,
   "id": "spoken-pacific",
   "metadata": {},
   "outputs": [],
   "source": [
    "from tensorflow.keras.layers import Input, GRU, SimpleRNN, Dense"
   ]
  },
  {
   "cell_type": "code",
   "execution_count": 2,
   "id": "mental-franklin",
   "metadata": {},
   "outputs": [],
   "source": [
    "from tensorflow.keras.models import Model"
   ]
  },
  {
   "cell_type": "code",
   "execution_count": 3,
   "id": "standard-premises",
   "metadata": {},
   "outputs": [],
   "source": [
    "input_layer = Input(shape=(28,28))\n",
    "rnn_layer_1 = SimpleRNN(128, return_sequences = True)(input_layer)\n",
    "rnn_layer_2 = SimpleRNN(256, return_sequences = True)(rnn_layer_1)\n",
    "fc_layer = Dense(10)(rnn_layer_2)"
   ]
  },
  {
   "cell_type": "code",
   "execution_count": 4,
   "id": "interstate-finger",
   "metadata": {},
   "outputs": [],
   "source": [
    "model = Model(input_layer, fc_layer)"
   ]
  },
  {
   "cell_type": "code",
   "execution_count": 5,
   "id": "excited-behalf",
   "metadata": {},
   "outputs": [
    {
     "name": "stdout",
     "output_type": "stream",
     "text": [
      "Model: \"model\"\n",
      "_________________________________________________________________\n",
      "Layer (type)                 Output Shape              Param #   \n",
      "=================================================================\n",
      "input_1 (InputLayer)         [(None, 28, 28)]          0         \n",
      "_________________________________________________________________\n",
      "simple_rnn (SimpleRNN)       (None, 28, 128)           20096     \n",
      "_________________________________________________________________\n",
      "simple_rnn_1 (SimpleRNN)     (None, 28, 256)           98560     \n",
      "_________________________________________________________________\n",
      "dense (Dense)                (None, 28, 10)            2570      \n",
      "=================================================================\n",
      "Total params: 121,226\n",
      "Trainable params: 121,226\n",
      "Non-trainable params: 0\n",
      "_________________________________________________________________\n"
     ]
    }
   ],
   "source": [
    "model.summary()"
   ]
  },
  {
   "cell_type": "code",
   "execution_count": null,
   "id": "liquid-monroe",
   "metadata": {},
   "outputs": [],
   "source": []
  }
 ],
 "metadata": {
  "kernelspec": {
   "display_name": "Python 3",
   "language": "python",
   "name": "python3"
  },
  "language_info": {
   "codemirror_mode": {
    "name": "ipython",
    "version": 3
   },
   "file_extension": ".py",
   "mimetype": "text/x-python",
   "name": "python",
   "nbconvert_exporter": "python",
   "pygments_lexer": "ipython3",
   "version": "3.7.0"
  }
 },
 "nbformat": 4,
 "nbformat_minor": 5
}
